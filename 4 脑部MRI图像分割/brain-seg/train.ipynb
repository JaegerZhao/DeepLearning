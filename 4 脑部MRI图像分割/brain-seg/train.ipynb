{
 "cells": [
  {
   "cell_type": "markdown",
   "metadata": {},
   "source": [
    "## 训练U-Net模型"
   ]
  },
  {
   "cell_type": "markdown",
   "metadata": {},
   "source": [
    "新建python 3.10环境（以conda为例）\n",
    "\n",
    "```\n",
    "conda create -n hw4 python=3.10 -y\n",
    "conda activate hw4\n",
    "```\n",
    "\n",
    "安装torch，注意cuda版本适配\n",
    "```\n",
    "pip install torch==2.0.* torchvision==0.15.* --index-url https://download.pytorch.org/whl/cu117\n",
    "```\n",
    "\n",
    "安装其他依赖库\n",
    "```\n",
    "pip install ipykernel==6.26.* matplotlib==3.8.* medpy==0.4.* scipy==1.11.* numpy==1.23.* scikit-image==0.22.* imageio==2.31.* tensorboard==2.15.* tqdm==4.* -i https://pypi.tuna.tsinghua.edu.cn/simple\n",
    "```"
   ]
  },
  {
   "cell_type": "code",
   "execution_count": 1,
   "metadata": {
    "ExecuteTime": {
     "end_time": "2020-06-11T15:56:14.141179Z",
     "start_time": "2020-06-11T15:56:05.371997Z"
    }
   },
   "outputs": [],
   "source": [
    "import json\n",
    "import os\n",
    "\n",
    "from types import SimpleNamespace\n",
    "import tqdm\n",
    "import numpy as np\n",
    "import torch\n",
    "import torch.optim as optim\n",
    "from torch.utils.data import DataLoader\n",
    "\n",
    "from dataset import BrainSegmentationDataset as Dataset\n",
    "from logger import Logger\n",
    "from loss import DiceLoss\n",
    "from transform import transforms\n",
    "from unet import UNet\n",
    "from utils import log_images, dsc"
   ]
  },
  {
   "cell_type": "markdown",
   "metadata": {},
   "source": [
    "### 输入参数  \n",
    "  \n",
    "device: 设备编号  \n",
    "batch_size: 批大小  \n",
    "epochs: 训练轮数  \n",
    "lr: 学习率  \n",
    "vis_images: 可视化预测结果的数目 (在tensorboard中查看)  \n",
    "vis_freq: 两次可视化预测结果的间隔  \n",
    "weights: 训练后的模型参数路径    \n",
    "images: 数据集路径   \n",
    "image_size: 图像尺寸   \n",
    "aug_scale: 数据增强(放缩)  \n",
    "aug_angle: 数据增强(旋转)  "
   ]
  },
  {
   "cell_type": "code",
   "execution_count": 2,
   "metadata": {},
   "outputs": [],
   "source": [
    "args = SimpleNamespace(\n",
    "    device = 'cuda:0',\n",
    "    batch_size = 16,\n",
    "    epochs = 20,\n",
    "    lr = 0.0001,\n",
    "    workers = 0,\n",
    "    vis_images = 200,\n",
    "    vis_freq = 10,\n",
    "    weights = './weights',\n",
    "    logs = './logs',\n",
    "    images = './archive/kaggle_3m',\n",
    "    image_size = 256,\n",
    "    aug_scale = 0.05,\n",
    "    aug_angle = 15,\n",
    ")"
   ]
  },
  {
   "cell_type": "code",
   "execution_count": 3,
   "metadata": {
    "ExecuteTime": {
     "end_time": "2020-06-11T15:56:14.185956Z",
     "start_time": "2020-06-11T15:56:14.151605Z"
    }
   },
   "outputs": [],
   "source": [
    "# 读取数据\n",
    "def worker_init(worker_id):\n",
    "    np.random.seed(42 + worker_id)\n",
    "\n",
    "def data_loaders(args):\n",
    "    dataset_train, dataset_valid = datasets(args)\n",
    "\n",
    "    loader_train = DataLoader(\n",
    "        dataset_train,\n",
    "        batch_size=args.batch_size,\n",
    "        shuffle=True,\n",
    "        drop_last=True,\n",
    "        num_workers=args.workers,\n",
    "        worker_init_fn=worker_init,\n",
    "    )\n",
    "    loader_valid = DataLoader(\n",
    "        dataset_valid,\n",
    "        batch_size=args.batch_size,\n",
    "        drop_last=False,\n",
    "        num_workers=args.workers,\n",
    "        worker_init_fn=worker_init,\n",
    "    )\n",
    "\n",
    "    return dataset_train, dataset_valid, loader_train, loader_valid\n",
    "\n",
    "# 数据集定义\n",
    "def datasets(args):\n",
    "    train = Dataset(\n",
    "        images_dir=args.images,\n",
    "        subset=\"train\",\n",
    "        image_size=args.image_size,\n",
    "        transform=transforms(scale=args.aug_scale, angle=args.aug_angle, flip_prob=0.5),\n",
    "    )\n",
    "    valid = Dataset(\n",
    "        images_dir=args.images,\n",
    "        subset=\"validation\",\n",
    "        image_size=args.image_size,\n",
    "        random_sampling=False,\n",
    "    )\n",
    "    return train, valid\n",
    "\n",
    "# 数据处理\n",
    "def dsc_per_volume(validation_pred, validation_true, patient_slice_index):\n",
    "    dsc_list = []\n",
    "    num_slices = np.bincount([p[0] for p in patient_slice_index])\n",
    "    index = 0\n",
    "    for p in range(len(num_slices)):\n",
    "        y_pred = np.array(validation_pred[index : index + num_slices[p]])\n",
    "        y_true = np.array(validation_true[index : index + num_slices[p]])\n",
    "        dsc_list.append(dsc(y_pred, y_true))\n",
    "        index += num_slices[p]\n",
    "    return dsc_list\n",
    "\n",
    "\n",
    "def log_loss_summary(logger, loss, step, prefix=\"\"):\n",
    "    logger.scalar_summary(prefix + \"loss\", np.mean(loss), step)\n",
    "\n",
    "\n",
    "def makedirs(args):\n",
    "    os.makedirs(args.weights, exist_ok=True)\n",
    "    os.makedirs(args.logs, exist_ok=True)\n",
    "\n",
    "\n",
    "def snapshotargs(args):\n",
    "    args_file = os.path.join(args.logs, \"args.json\")\n",
    "    with open(args_file, \"w\") as fp:\n",
    "        json.dump(vars(args), fp)"
   ]
  },
  {
   "cell_type": "code",
   "execution_count": 4,
   "metadata": {},
   "outputs": [
    {
     "name": "stdout",
     "output_type": "stream",
     "text": [
      "reading train images...\n",
      "preprocessing train volumes...\n",
      "cropping train volumes...\n",
      "padding train volumes...\n",
      "resizing train volumes...\n",
      "normalizing train volumes...\n",
      "done creating train dataset\n",
      "reading validation images...\n",
      "preprocessing validation volumes...\n",
      "cropping validation volumes...\n",
      "padding validation volumes...\n",
      "resizing validation volumes...\n",
      "normalizing validation volumes...\n",
      "done creating validation dataset\n"
     ]
    }
   ],
   "source": [
    "makedirs(args)\n",
    "snapshotargs(args)\n",
    "device = torch.device(\"cpu\" if not torch.cuda.is_available() else args.device)\n",
    "\n",
    "dataset_train, dataset_valid, loader_train, loader_valid = data_loaders(args)\n",
    "loaders = {\"train\": loader_train, \"valid\": loader_valid}\n"
   ]
  },
  {
   "cell_type": "code",
   "execution_count": 5,
   "metadata": {},
   "outputs": [],
   "source": [
    "unet = UNet(in_channels=Dataset.in_channels, out_channels=Dataset.out_channels)\n",
    "unet.to(device)\n",
    "\n",
    "dsc_loss = DiceLoss()\n",
    "best_validation_dsc = 0.0\n",
    "\n",
    "optimizer = optim.Adam(unet.parameters(), lr=args.lr)\n",
    "\n",
    "logger = Logger(args.logs)\n",
    "loss_train = []\n",
    "loss_valid = []\n",
    "\n",
    "step = 0\n"
   ]
  },
  {
   "cell_type": "code",
   "execution_count": 6,
   "metadata": {},
   "outputs": [
    {
     "name": "stderr",
     "output_type": "stream",
     "text": [
      "100%|██████████| 208/208 [01:49<00:00,  1.90it/s]\n",
      "100%|██████████| 21/21 [00:31<00:00,  1.52s/it]\n"
     ]
    },
    {
     "name": "stdout",
     "output_type": "stream",
     "text": [
      "epoch 1 | val_loss: 0.9300094218481154\n",
      "epoch 1 | val_dsc: 0.6486533855665423\n"
     ]
    },
    {
     "name": "stderr",
     "output_type": "stream",
     "text": [
      "100%|██████████| 208/208 [02:27<00:00,  1.41it/s]\n",
      "100%|██████████| 21/21 [00:01<00:00, 11.95it/s]\n"
     ]
    },
    {
     "name": "stdout",
     "output_type": "stream",
     "text": [
      "epoch 2 | val_loss: 0.9203856388727824\n",
      "epoch 2 | val_dsc: 0.7171584296426168\n"
     ]
    },
    {
     "name": "stderr",
     "output_type": "stream",
     "text": [
      "100%|██████████| 208/208 [01:22<00:00,  2.52it/s]\n",
      "100%|██████████| 21/21 [00:01<00:00, 11.57it/s]\n"
     ]
    },
    {
     "name": "stdout",
     "output_type": "stream",
     "text": [
      "epoch 3 | val_loss: 0.9092049797375997\n",
      "epoch 3 | val_dsc: 0.7350033509876954\n"
     ]
    },
    {
     "name": "stderr",
     "output_type": "stream",
     "text": [
      "100%|██████████| 208/208 [01:22<00:00,  2.52it/s]\n",
      "100%|██████████| 21/21 [00:01<00:00, 11.72it/s]\n"
     ]
    },
    {
     "name": "stdout",
     "output_type": "stream",
     "text": [
      "epoch 4 | val_loss: 0.8894170834904626\n",
      "epoch 4 | val_dsc: 0.7466774402595047\n"
     ]
    },
    {
     "name": "stderr",
     "output_type": "stream",
     "text": [
      "100%|██████████| 208/208 [01:22<00:00,  2.51it/s]\n",
      "100%|██████████| 21/21 [00:01<00:00, 11.48it/s]\n"
     ]
    },
    {
     "name": "stdout",
     "output_type": "stream",
     "text": [
      "epoch 5 | val_loss: 0.8681549628575643\n",
      "epoch 5 | val_dsc: 0.7802115085228776\n"
     ]
    },
    {
     "name": "stderr",
     "output_type": "stream",
     "text": [
      "100%|██████████| 208/208 [01:21<00:00,  2.54it/s]\n",
      "100%|██████████| 21/21 [00:01<00:00, 11.70it/s]\n"
     ]
    },
    {
     "name": "stdout",
     "output_type": "stream",
     "text": [
      "epoch 6 | val_loss: 0.8357665368488857\n",
      "epoch 6 | val_dsc: 0.7897037071871073\n"
     ]
    },
    {
     "name": "stderr",
     "output_type": "stream",
     "text": [
      "100%|██████████| 208/208 [02:47<00:00,  1.24it/s]\n",
      "100%|██████████| 21/21 [00:03<00:00,  6.63it/s]\n"
     ]
    },
    {
     "name": "stdout",
     "output_type": "stream",
     "text": [
      "epoch 7 | val_loss: 0.7975527615774245\n",
      "epoch 7 | val_dsc: 0.7873152159738834\n"
     ]
    },
    {
     "name": "stderr",
     "output_type": "stream",
     "text": [
      "100%|██████████| 208/208 [03:09<00:00,  1.10it/s]\n",
      "100%|██████████| 21/21 [00:01<00:00, 12.05it/s]\n"
     ]
    },
    {
     "name": "stdout",
     "output_type": "stream",
     "text": [
      "epoch 8 | val_loss: 0.7525261981146676\n",
      "epoch 8 | val_dsc: 0.790932287583985\n"
     ]
    },
    {
     "name": "stderr",
     "output_type": "stream",
     "text": [
      "100%|██████████| 208/208 [01:20<00:00,  2.58it/s]\n",
      "100%|██████████| 21/21 [00:01<00:00, 11.60it/s]\n"
     ]
    },
    {
     "name": "stdout",
     "output_type": "stream",
     "text": [
      "epoch 9 | val_loss: 0.7032544073604402\n",
      "epoch 9 | val_dsc: 0.8114025345592559\n"
     ]
    },
    {
     "name": "stderr",
     "output_type": "stream",
     "text": [
      "100%|██████████| 208/208 [02:24<00:00,  1.44it/s]\n",
      "100%|██████████| 21/21 [00:01<00:00, 11.96it/s]\n"
     ]
    },
    {
     "name": "stdout",
     "output_type": "stream",
     "text": [
      "epoch 10 | val_loss: 0.6572199889591762\n",
      "epoch 10 | val_dsc: 0.7111201867445971\n"
     ]
    },
    {
     "name": "stderr",
     "output_type": "stream",
     "text": [
      "100%|██████████| 208/208 [01:20<00:00,  2.59it/s]\n",
      "100%|██████████| 21/21 [00:07<00:00,  2.77it/s]\n"
     ]
    },
    {
     "name": "stdout",
     "output_type": "stream",
     "text": [
      "epoch 11 | val_loss: 0.6197637291181655\n",
      "epoch 11 | val_dsc: 0.7997087272325115\n"
     ]
    },
    {
     "name": "stderr",
     "output_type": "stream",
     "text": [
      "100%|██████████| 208/208 [01:20<00:00,  2.57it/s]\n",
      "100%|██████████| 21/21 [00:01<00:00, 11.79it/s]\n"
     ]
    },
    {
     "name": "stdout",
     "output_type": "stream",
     "text": [
      "epoch 12 | val_loss: 0.5708272712571281\n",
      "epoch 12 | val_dsc: 0.8105490089540061\n"
     ]
    },
    {
     "name": "stderr",
     "output_type": "stream",
     "text": [
      "100%|██████████| 208/208 [01:21<00:00,  2.55it/s]\n",
      "100%|██████████| 21/21 [00:01<00:00, 11.81it/s]\n"
     ]
    },
    {
     "name": "stdout",
     "output_type": "stream",
     "text": [
      "epoch 13 | val_loss: 0.5498993481908526\n",
      "epoch 13 | val_dsc: 0.8144203195990926\n"
     ]
    },
    {
     "name": "stderr",
     "output_type": "stream",
     "text": [
      "100%|██████████| 208/208 [01:20<00:00,  2.57it/s]\n",
      "100%|██████████| 21/21 [00:01<00:00, 11.86it/s]\n"
     ]
    },
    {
     "name": "stdout",
     "output_type": "stream",
     "text": [
      "epoch 14 | val_loss: 0.5120695204961867\n",
      "epoch 14 | val_dsc: 0.8104971639339192\n"
     ]
    },
    {
     "name": "stderr",
     "output_type": "stream",
     "text": [
      "100%|██████████| 208/208 [01:20<00:00,  2.58it/s]\n",
      "100%|██████████| 21/21 [00:01<00:00, 11.69it/s]\n"
     ]
    },
    {
     "name": "stdout",
     "output_type": "stream",
     "text": [
      "epoch 15 | val_loss: 0.4965531173206511\n",
      "epoch 15 | val_dsc: 0.8155590415176978\n"
     ]
    },
    {
     "name": "stderr",
     "output_type": "stream",
     "text": [
      "100%|██████████| 208/208 [01:20<00:00,  2.59it/s]\n",
      "100%|██████████| 21/21 [00:01<00:00, 11.86it/s]\n"
     ]
    },
    {
     "name": "stdout",
     "output_type": "stream",
     "text": [
      "epoch 16 | val_loss: 0.46866209166390554\n",
      "epoch 16 | val_dsc: 0.9076499446047821\n"
     ]
    },
    {
     "name": "stderr",
     "output_type": "stream",
     "text": [
      "100%|██████████| 208/208 [01:20<00:00,  2.58it/s]\n",
      "100%|██████████| 21/21 [00:01<00:00, 11.53it/s]\n"
     ]
    },
    {
     "name": "stdout",
     "output_type": "stream",
     "text": [
      "epoch 17 | val_loss: 0.4413673310052781\n",
      "epoch 17 | val_dsc: 0.9090085096792375\n"
     ]
    },
    {
     "name": "stderr",
     "output_type": "stream",
     "text": [
      "100%|██████████| 208/208 [01:21<00:00,  2.57it/s]\n",
      "100%|██████████| 21/21 [00:01<00:00, 11.54it/s]\n"
     ]
    },
    {
     "name": "stdout",
     "output_type": "stream",
     "text": [
      "epoch 18 | val_loss: 0.44150114627111525\n",
      "epoch 18 | val_dsc: 0.8151419597712002\n"
     ]
    },
    {
     "name": "stderr",
     "output_type": "stream",
     "text": [
      "100%|██████████| 208/208 [01:21<00:00,  2.57it/s]\n",
      "100%|██████████| 21/21 [00:01<00:00, 11.94it/s]\n"
     ]
    },
    {
     "name": "stdout",
     "output_type": "stream",
     "text": [
      "epoch 19 | val_loss: 0.4708030536061242\n",
      "epoch 19 | val_dsc: 0.8124740743084724\n"
     ]
    },
    {
     "name": "stderr",
     "output_type": "stream",
     "text": [
      "100%|██████████| 208/208 [01:21<00:00,  2.56it/s]\n",
      "100%|██████████| 21/21 [00:01<00:00, 11.98it/s]\n"
     ]
    },
    {
     "name": "stdout",
     "output_type": "stream",
     "text": [
      "epoch 20 | val_loss: 0.40352000508989605\n",
      "epoch 20 | val_dsc: 0.8623220839095485\n"
     ]
    },
    {
     "name": "stderr",
     "output_type": "stream",
     "text": [
      "100%|██████████| 208/208 [01:22<00:00,  2.54it/s]\n",
      "100%|██████████| 21/21 [00:07<00:00,  2.72it/s]\n"
     ]
    },
    {
     "name": "stdout",
     "output_type": "stream",
     "text": [
      "epoch 21 | val_loss: 0.39225136382239206\n",
      "epoch 21 | val_dsc: 0.8127792558652926\n"
     ]
    },
    {
     "name": "stderr",
     "output_type": "stream",
     "text": [
      "100%|██████████| 208/208 [01:21<00:00,  2.55it/s]\n",
      "100%|██████████| 21/21 [00:01<00:00, 11.78it/s]\n"
     ]
    },
    {
     "name": "stdout",
     "output_type": "stream",
     "text": [
      "epoch 22 | val_loss: 0.3838960244542077\n",
      "epoch 22 | val_dsc: 0.9126935347012985\n"
     ]
    },
    {
     "name": "stderr",
     "output_type": "stream",
     "text": [
      "100%|██████████| 208/208 [01:21<00:00,  2.56it/s]\n",
      "100%|██████████| 21/21 [00:01<00:00, 11.31it/s]\n"
     ]
    },
    {
     "name": "stdout",
     "output_type": "stream",
     "text": [
      "epoch 23 | val_loss: 0.3968218196006048\n",
      "epoch 23 | val_dsc: 0.8158603494191651\n"
     ]
    },
    {
     "name": "stderr",
     "output_type": "stream",
     "text": [
      "100%|██████████| 208/208 [02:05<00:00,  1.65it/s]\n",
      "100%|██████████| 21/21 [00:01<00:00, 11.80it/s]\n"
     ]
    },
    {
     "name": "stdout",
     "output_type": "stream",
     "text": [
      "epoch 24 | val_loss: 0.37948998383113314\n",
      "epoch 24 | val_dsc: 0.8152271962572961\n"
     ]
    },
    {
     "name": "stderr",
     "output_type": "stream",
     "text": [
      "100%|██████████| 208/208 [01:20<00:00,  2.57it/s]\n",
      "100%|██████████| 21/21 [00:01<00:00, 11.95it/s]\n"
     ]
    },
    {
     "name": "stdout",
     "output_type": "stream",
     "text": [
      "epoch 25 | val_loss: 0.36647017513002667\n",
      "epoch 25 | val_dsc: 0.9112504016429602\n"
     ]
    },
    {
     "name": "stderr",
     "output_type": "stream",
     "text": [
      "100%|██████████| 208/208 [01:19<00:00,  2.60it/s]\n",
      "100%|██████████| 21/21 [00:01<00:00, 11.86it/s]\n"
     ]
    },
    {
     "name": "stdout",
     "output_type": "stream",
     "text": [
      "epoch 26 | val_loss: 0.37306978021349224\n",
      "epoch 26 | val_dsc: 0.9066333683623213\n"
     ]
    },
    {
     "name": "stderr",
     "output_type": "stream",
     "text": [
      "100%|██████████| 208/208 [01:19<00:00,  2.61it/s]\n",
      "100%|██████████| 21/21 [00:01<00:00, 11.81it/s]\n"
     ]
    },
    {
     "name": "stdout",
     "output_type": "stream",
     "text": [
      "epoch 27 | val_loss: 0.36652875798089163\n",
      "epoch 27 | val_dsc: 0.8152534890380684\n"
     ]
    },
    {
     "name": "stderr",
     "output_type": "stream",
     "text": [
      "100%|██████████| 208/208 [01:20<00:00,  2.59it/s]\n",
      "100%|██████████| 21/21 [00:01<00:00, 12.07it/s]\n"
     ]
    },
    {
     "name": "stdout",
     "output_type": "stream",
     "text": [
      "epoch 28 | val_loss: 0.34790696132750737\n",
      "epoch 28 | val_dsc: 0.8142735374258582\n"
     ]
    },
    {
     "name": "stderr",
     "output_type": "stream",
     "text": [
      "100%|██████████| 208/208 [01:27<00:00,  2.39it/s]\n",
      "100%|██████████| 21/21 [00:01<00:00, 11.97it/s]\n"
     ]
    },
    {
     "name": "stdout",
     "output_type": "stream",
     "text": [
      "epoch 29 | val_loss: 0.36077289354233516\n",
      "epoch 29 | val_dsc: 0.8134258398209514\n"
     ]
    },
    {
     "name": "stderr",
     "output_type": "stream",
     "text": [
      "100%|██████████| 208/208 [01:20<00:00,  2.60it/s]\n",
      "100%|██████████| 21/21 [00:01<00:00, 12.01it/s]\n"
     ]
    },
    {
     "name": "stdout",
     "output_type": "stream",
     "text": [
      "epoch 30 | val_loss: 0.34553648176647367\n",
      "epoch 30 | val_dsc: 0.9082837114126946\n"
     ]
    },
    {
     "name": "stderr",
     "output_type": "stream",
     "text": [
      "100%|██████████| 208/208 [01:31<00:00,  2.28it/s]\n",
      "100%|██████████| 21/21 [00:26<00:00,  1.28s/it]\n"
     ]
    },
    {
     "name": "stdout",
     "output_type": "stream",
     "text": [
      "epoch 31 | val_loss: 0.3323191688174293\n",
      "epoch 31 | val_dsc: 0.9081517978910083\n"
     ]
    },
    {
     "name": "stderr",
     "output_type": "stream",
     "text": [
      "100%|██████████| 208/208 [03:50<00:00,  1.11s/it]\n",
      "100%|██████████| 21/21 [00:02<00:00,  8.68it/s]\n"
     ]
    },
    {
     "name": "stdout",
     "output_type": "stream",
     "text": [
      "epoch 32 | val_loss: 0.32541377487636747\n",
      "epoch 32 | val_dsc: 0.9109429243892858\n"
     ]
    },
    {
     "name": "stderr",
     "output_type": "stream",
     "text": [
      "100%|██████████| 208/208 [03:42<00:00,  1.07s/it]\n",
      "100%|██████████| 21/21 [00:02<00:00,  8.79it/s]\n"
     ]
    },
    {
     "name": "stdout",
     "output_type": "stream",
     "text": [
      "epoch 33 | val_loss: 0.32905276616414386\n",
      "epoch 33 | val_dsc: 0.8159482834905625\n"
     ]
    },
    {
     "name": "stderr",
     "output_type": "stream",
     "text": [
      "100%|██████████| 208/208 [02:40<00:00,  1.30it/s]\n",
      "100%|██████████| 21/21 [00:01<00:00, 11.87it/s]\n"
     ]
    },
    {
     "name": "stdout",
     "output_type": "stream",
     "text": [
      "epoch 34 | val_loss: 0.3227735190164475\n",
      "epoch 34 | val_dsc: 0.8165670984273081\n"
     ]
    },
    {
     "name": "stderr",
     "output_type": "stream",
     "text": [
      "100%|██████████| 208/208 [01:19<00:00,  2.61it/s]\n",
      "100%|██████████| 21/21 [00:01<00:00, 11.87it/s]\n"
     ]
    },
    {
     "name": "stdout",
     "output_type": "stream",
     "text": [
      "epoch 35 | val_loss: 0.3020877696218945\n",
      "epoch 35 | val_dsc: 0.9112661116397334\n"
     ]
    },
    {
     "name": "stderr",
     "output_type": "stream",
     "text": [
      "100%|██████████| 208/208 [01:22<00:00,  2.53it/s]\n",
      "100%|██████████| 21/21 [00:01<00:00, 11.77it/s]\n"
     ]
    },
    {
     "name": "stdout",
     "output_type": "stream",
     "text": [
      "epoch 36 | val_loss: 0.307654375121707\n",
      "epoch 36 | val_dsc: 0.8160206043635521\n"
     ]
    },
    {
     "name": "stderr",
     "output_type": "stream",
     "text": [
      "100%|██████████| 208/208 [01:26<00:00,  2.40it/s]\n",
      "100%|██████████| 21/21 [00:03<00:00,  6.53it/s]\n"
     ]
    },
    {
     "name": "stdout",
     "output_type": "stream",
     "text": [
      "epoch 37 | val_loss: 0.302940947668893\n",
      "epoch 37 | val_dsc: 0.9088559332798323\n"
     ]
    },
    {
     "name": "stderr",
     "output_type": "stream",
     "text": [
      "100%|██████████| 208/208 [02:44<00:00,  1.26it/s]\n",
      "100%|██████████| 21/21 [00:01<00:00, 12.00it/s]\n"
     ]
    },
    {
     "name": "stdout",
     "output_type": "stream",
     "text": [
      "epoch 38 | val_loss: 0.300731551079523\n",
      "epoch 38 | val_dsc: 0.8200381363920191\n"
     ]
    },
    {
     "name": "stderr",
     "output_type": "stream",
     "text": [
      "100%|██████████| 208/208 [01:19<00:00,  2.60it/s]\n",
      "100%|██████████| 21/21 [00:01<00:00, 11.73it/s]\n"
     ]
    },
    {
     "name": "stdout",
     "output_type": "stream",
     "text": [
      "epoch 39 | val_loss: 0.31112587168103173\n",
      "epoch 39 | val_dsc: 0.9091388297283182\n"
     ]
    },
    {
     "name": "stderr",
     "output_type": "stream",
     "text": [
      "100%|██████████| 208/208 [01:18<00:00,  2.64it/s]\n",
      "100%|██████████| 21/21 [00:01<00:00, 11.82it/s]\n"
     ]
    },
    {
     "name": "stdout",
     "output_type": "stream",
     "text": [
      "epoch 40 | val_loss: 0.2899432466143653\n",
      "epoch 40 | val_dsc: 0.9119710413065938\n"
     ]
    },
    {
     "name": "stderr",
     "output_type": "stream",
     "text": [
      "100%|██████████| 208/208 [01:18<00:00,  2.64it/s]\n",
      "100%|██████████| 21/21 [00:07<00:00,  2.79it/s]\n"
     ]
    },
    {
     "name": "stdout",
     "output_type": "stream",
     "text": [
      "epoch 41 | val_loss: 0.29899840411685763\n",
      "epoch 41 | val_dsc: 0.9117651457595242\n"
     ]
    },
    {
     "name": "stderr",
     "output_type": "stream",
     "text": [
      "100%|██████████| 208/208 [03:27<00:00,  1.00it/s]\n",
      "100%|██████████| 21/21 [00:03<00:00,  6.11it/s]\n"
     ]
    },
    {
     "name": "stdout",
     "output_type": "stream",
     "text": [
      "epoch 42 | val_loss: 0.3042170462154207\n",
      "epoch 42 | val_dsc: 0.8157804603403915\n"
     ]
    },
    {
     "name": "stderr",
     "output_type": "stream",
     "text": [
      "100%|██████████| 208/208 [05:08<00:00,  1.48s/it]\n",
      "100%|██████████| 21/21 [00:02<00:00,  9.72it/s]\n"
     ]
    },
    {
     "name": "stdout",
     "output_type": "stream",
     "text": [
      "epoch 43 | val_loss: 0.3093959944588797\n",
      "epoch 43 | val_dsc: 0.9008138185845906\n"
     ]
    },
    {
     "name": "stderr",
     "output_type": "stream",
     "text": [
      "100%|██████████| 208/208 [04:38<00:00,  1.34s/it]\n",
      "100%|██████████| 21/21 [00:02<00:00,  8.66it/s]\n"
     ]
    },
    {
     "name": "stdout",
     "output_type": "stream",
     "text": [
      "epoch 44 | val_loss: 0.28931513570603873\n",
      "epoch 44 | val_dsc: 0.9087680295394559\n"
     ]
    },
    {
     "name": "stderr",
     "output_type": "stream",
     "text": [
      "100%|██████████| 208/208 [06:36<00:00,  1.91s/it]\n",
      "100%|██████████| 21/21 [00:02<00:00,  7.76it/s]\n"
     ]
    },
    {
     "name": "stdout",
     "output_type": "stream",
     "text": [
      "epoch 45 | val_loss: 0.2832990231968108\n",
      "epoch 45 | val_dsc: 0.9096345966805133\n"
     ]
    },
    {
     "name": "stderr",
     "output_type": "stream",
     "text": [
      "100%|██████████| 208/208 [06:25<00:00,  1.85s/it]\n",
      "100%|██████████| 21/21 [00:02<00:00,  8.76it/s]\n"
     ]
    },
    {
     "name": "stdout",
     "output_type": "stream",
     "text": [
      "epoch 46 | val_loss: 0.28766882987249465\n",
      "epoch 46 | val_dsc: 0.9098127385874364\n"
     ]
    },
    {
     "name": "stderr",
     "output_type": "stream",
     "text": [
      "100%|██████████| 208/208 [05:37<00:00,  1.62s/it]\n",
      "100%|██████████| 21/21 [00:03<00:00,  6.64it/s]\n"
     ]
    },
    {
     "name": "stdout",
     "output_type": "stream",
     "text": [
      "epoch 47 | val_loss: 0.2978772719701131\n",
      "epoch 47 | val_dsc: 0.9062091014112582\n"
     ]
    },
    {
     "name": "stderr",
     "output_type": "stream",
     "text": [
      "100%|██████████| 208/208 [06:17<00:00,  1.82s/it]\n",
      "100%|██████████| 21/21 [00:03<00:00,  6.14it/s]\n"
     ]
    },
    {
     "name": "stdout",
     "output_type": "stream",
     "text": [
      "epoch 48 | val_loss: 0.28115167788096834\n",
      "epoch 48 | val_dsc: 0.9098995175525723\n"
     ]
    },
    {
     "name": "stderr",
     "output_type": "stream",
     "text": [
      "100%|██████████| 208/208 [06:29<00:00,  1.87s/it]\n",
      "100%|██████████| 21/21 [00:03<00:00,  6.77it/s]\n"
     ]
    },
    {
     "name": "stdout",
     "output_type": "stream",
     "text": [
      "epoch 49 | val_loss: 0.2880299034572783\n",
      "epoch 49 | val_dsc: 0.9119351999561062\n"
     ]
    },
    {
     "name": "stderr",
     "output_type": "stream",
     "text": [
      "100%|██████████| 208/208 [07:11<00:00,  2.08s/it]\n",
      "100%|██████████| 21/21 [00:03<00:00,  6.33it/s]\n"
     ]
    },
    {
     "name": "stdout",
     "output_type": "stream",
     "text": [
      "epoch 50 | val_loss: 0.2760190935361953\n",
      "epoch 50 | val_dsc: 0.9121348719016881\n"
     ]
    },
    {
     "name": "stderr",
     "output_type": "stream",
     "text": [
      "100%|██████████| 208/208 [06:10<00:00,  1.78s/it]\n",
      "100%|██████████| 21/21 [00:45<00:00,  2.15s/it]\n"
     ]
    },
    {
     "name": "stdout",
     "output_type": "stream",
     "text": [
      "epoch 51 | val_loss: 0.2662122107687451\n",
      "epoch 51 | val_dsc: 0.9123983861937571\n"
     ]
    },
    {
     "name": "stderr",
     "output_type": "stream",
     "text": [
      "100%|██████████| 208/208 [06:12<00:00,  1.79s/it]\n",
      "100%|██████████| 21/21 [00:03<00:00,  6.63it/s]\n"
     ]
    },
    {
     "name": "stdout",
     "output_type": "stream",
     "text": [
      "epoch 52 | val_loss: 0.28588649488630746\n",
      "epoch 52 | val_dsc: 0.9090450165821029\n"
     ]
    },
    {
     "name": "stderr",
     "output_type": "stream",
     "text": [
      "100%|██████████| 208/208 [06:38<00:00,  1.91s/it]\n",
      "100%|██████████| 21/21 [00:03<00:00,  6.07it/s]\n"
     ]
    },
    {
     "name": "stdout",
     "output_type": "stream",
     "text": [
      "epoch 53 | val_loss: 0.28687967856725055\n",
      "epoch 53 | val_dsc: 0.9105310682813428\n"
     ]
    },
    {
     "name": "stderr",
     "output_type": "stream",
     "text": [
      "100%|██████████| 208/208 [06:03<00:00,  1.75s/it]\n",
      "100%|██████████| 21/21 [00:03<00:00,  6.31it/s]\n"
     ]
    },
    {
     "name": "stdout",
     "output_type": "stream",
     "text": [
      "epoch 54 | val_loss: 0.290406896954491\n",
      "epoch 54 | val_dsc: 0.908705010147546\n"
     ]
    },
    {
     "name": "stderr",
     "output_type": "stream",
     "text": [
      "100%|██████████| 208/208 [06:47<00:00,  1.96s/it]\n",
      "100%|██████████| 21/21 [00:03<00:00,  6.90it/s]\n"
     ]
    },
    {
     "name": "stdout",
     "output_type": "stream",
     "text": [
      "epoch 55 | val_loss: 0.28403744243440177\n",
      "epoch 55 | val_dsc: 0.9095162464721553\n"
     ]
    },
    {
     "name": "stderr",
     "output_type": "stream",
     "text": [
      "100%|██████████| 208/208 [06:00<00:00,  1.73s/it]\n",
      "100%|██████████| 21/21 [00:02<00:00,  7.25it/s]\n"
     ]
    },
    {
     "name": "stdout",
     "output_type": "stream",
     "text": [
      "epoch 56 | val_loss: 0.2787903689202808\n",
      "epoch 56 | val_dsc: 0.9118514700655178\n"
     ]
    },
    {
     "name": "stderr",
     "output_type": "stream",
     "text": [
      "100%|██████████| 208/208 [04:59<00:00,  1.44s/it]\n",
      "100%|██████████| 21/21 [00:02<00:00,  7.75it/s]\n"
     ]
    },
    {
     "name": "stdout",
     "output_type": "stream",
     "text": [
      "epoch 57 | val_loss: 0.2756540037336804\n",
      "epoch 57 | val_dsc: 0.91232331440959\n"
     ]
    },
    {
     "name": "stderr",
     "output_type": "stream",
     "text": [
      "100%|██████████| 208/208 [04:40<00:00,  1.35s/it]\n",
      "100%|██████████| 21/21 [00:02<00:00,  7.30it/s]\n"
     ]
    },
    {
     "name": "stdout",
     "output_type": "stream",
     "text": [
      "epoch 58 | val_loss: 0.2713498586700076\n",
      "epoch 58 | val_dsc: 0.9127578491914721\n"
     ]
    },
    {
     "name": "stderr",
     "output_type": "stream",
     "text": [
      "100%|██████████| 208/208 [04:55<00:00,  1.42s/it]\n",
      "100%|██████████| 21/21 [00:02<00:00,  7.27it/s]\n"
     ]
    },
    {
     "name": "stdout",
     "output_type": "stream",
     "text": [
      "epoch 59 | val_loss: 0.286448856194814\n",
      "epoch 59 | val_dsc: 0.9084768090096651\n"
     ]
    },
    {
     "name": "stderr",
     "output_type": "stream",
     "text": [
      "100%|██████████| 208/208 [04:46<00:00,  1.38s/it]\n",
      "100%|██████████| 21/21 [00:02<00:00,  7.88it/s]\n"
     ]
    },
    {
     "name": "stdout",
     "output_type": "stream",
     "text": [
      "epoch 60 | val_loss: 0.281145263285864\n",
      "epoch 60 | val_dsc: 0.821593978208948\n"
     ]
    },
    {
     "name": "stderr",
     "output_type": "stream",
     "text": [
      "100%|██████████| 208/208 [04:48<00:00,  1.39s/it]\n",
      "100%|██████████| 21/21 [00:35<00:00,  1.68s/it]\n"
     ]
    },
    {
     "name": "stdout",
     "output_type": "stream",
     "text": [
      "epoch 61 | val_loss: 0.27812024241402034\n",
      "epoch 61 | val_dsc: 0.9107459882218661\n"
     ]
    },
    {
     "name": "stderr",
     "output_type": "stream",
     "text": [
      "100%|██████████| 208/208 [04:40<00:00,  1.35s/it]\n",
      "100%|██████████| 21/21 [00:02<00:00,  7.41it/s]\n"
     ]
    },
    {
     "name": "stdout",
     "output_type": "stream",
     "text": [
      "epoch 62 | val_loss: 0.26988764036269414\n",
      "epoch 62 | val_dsc: 0.9140254069587807\n"
     ]
    },
    {
     "name": "stderr",
     "output_type": "stream",
     "text": [
      "100%|██████████| 208/208 [04:49<00:00,  1.39s/it]\n",
      "100%|██████████| 21/21 [00:02<00:00,  7.48it/s]\n"
     ]
    },
    {
     "name": "stdout",
     "output_type": "stream",
     "text": [
      "epoch 63 | val_loss: 0.2526650513921465\n",
      "epoch 63 | val_dsc: 0.9121053169176552\n"
     ]
    },
    {
     "name": "stderr",
     "output_type": "stream",
     "text": [
      "100%|██████████| 208/208 [04:43<00:00,  1.36s/it]\n",
      "100%|██████████| 21/21 [00:02<00:00,  7.53it/s]\n"
     ]
    },
    {
     "name": "stdout",
     "output_type": "stream",
     "text": [
      "epoch 64 | val_loss: 0.27135818345206125\n",
      "epoch 64 | val_dsc: 0.9044511332773997\n"
     ]
    },
    {
     "name": "stderr",
     "output_type": "stream",
     "text": [
      "100%|██████████| 208/208 [04:50<00:00,  1.39s/it]\n",
      "100%|██████████| 21/21 [00:02<00:00,  7.60it/s]\n"
     ]
    },
    {
     "name": "stdout",
     "output_type": "stream",
     "text": [
      "epoch 65 | val_loss: 0.28720143863133024\n",
      "epoch 65 | val_dsc: 0.9095496787999908\n"
     ]
    },
    {
     "name": "stderr",
     "output_type": "stream",
     "text": [
      "100%|██████████| 208/208 [04:56<00:00,  1.43s/it]\n",
      "100%|██████████| 21/21 [00:02<00:00,  7.44it/s]\n"
     ]
    },
    {
     "name": "stdout",
     "output_type": "stream",
     "text": [
      "epoch 66 | val_loss: 0.27223073017029537\n",
      "epoch 66 | val_dsc: 0.9098649958379685\n"
     ]
    },
    {
     "name": "stderr",
     "output_type": "stream",
     "text": [
      "100%|██████████| 208/208 [04:44<00:00,  1.37s/it]\n",
      "100%|██████████| 21/21 [00:02<00:00,  7.55it/s]\n"
     ]
    },
    {
     "name": "stdout",
     "output_type": "stream",
     "text": [
      "epoch 67 | val_loss: 0.34367463418415617\n",
      "epoch 67 | val_dsc: 0.9033520663173649\n"
     ]
    },
    {
     "name": "stderr",
     "output_type": "stream",
     "text": [
      "100%|██████████| 208/208 [04:49<00:00,  1.39s/it]\n",
      "100%|██████████| 21/21 [00:02<00:00,  7.64it/s]\n"
     ]
    },
    {
     "name": "stdout",
     "output_type": "stream",
     "text": [
      "epoch 68 | val_loss: 0.2693826953570048\n",
      "epoch 68 | val_dsc: 0.9082758052622582\n"
     ]
    },
    {
     "name": "stderr",
     "output_type": "stream",
     "text": [
      "100%|██████████| 208/208 [04:50<00:00,  1.40s/it]\n",
      "100%|██████████| 21/21 [00:02<00:00,  7.93it/s]\n"
     ]
    },
    {
     "name": "stdout",
     "output_type": "stream",
     "text": [
      "epoch 69 | val_loss: 0.30312373240788776\n",
      "epoch 69 | val_dsc: 0.8179288124226044\n"
     ]
    },
    {
     "name": "stderr",
     "output_type": "stream",
     "text": [
      "100%|██████████| 208/208 [04:50<00:00,  1.40s/it]\n",
      "100%|██████████| 21/21 [00:02<00:00,  7.71it/s]\n"
     ]
    },
    {
     "name": "stdout",
     "output_type": "stream",
     "text": [
      "epoch 70 | val_loss: 0.2520041636058262\n",
      "epoch 70 | val_dsc: 0.9081588396062109\n"
     ]
    },
    {
     "name": "stderr",
     "output_type": "stream",
     "text": [
      "100%|██████████| 208/208 [04:42<00:00,  1.36s/it]\n",
      "100%|██████████| 21/21 [00:37<00:00,  1.80s/it]\n"
     ]
    },
    {
     "name": "stdout",
     "output_type": "stream",
     "text": [
      "epoch 71 | val_loss: 0.2667387979371207\n",
      "epoch 71 | val_dsc: 0.9095871790040096\n"
     ]
    },
    {
     "name": "stderr",
     "output_type": "stream",
     "text": [
      "100%|██████████| 208/208 [04:45<00:00,  1.37s/it]\n",
      "100%|██████████| 21/21 [00:02<00:00,  7.34it/s]\n"
     ]
    },
    {
     "name": "stdout",
     "output_type": "stream",
     "text": [
      "epoch 72 | val_loss: 0.2669976665860131\n",
      "epoch 72 | val_dsc: 0.911332737122845\n"
     ]
    },
    {
     "name": "stderr",
     "output_type": "stream",
     "text": [
      "100%|██████████| 208/208 [04:53<00:00,  1.41s/it]\n",
      "100%|██████████| 21/21 [00:02<00:00,  7.42it/s]\n"
     ]
    },
    {
     "name": "stdout",
     "output_type": "stream",
     "text": [
      "epoch 73 | val_loss: 0.24297266063236056\n",
      "epoch 73 | val_dsc: 0.912898683615403\n"
     ]
    },
    {
     "name": "stderr",
     "output_type": "stream",
     "text": [
      "100%|██████████| 208/208 [05:03<00:00,  1.46s/it]\n",
      "100%|██████████| 21/21 [00:02<00:00,  7.05it/s]\n"
     ]
    },
    {
     "name": "stdout",
     "output_type": "stream",
     "text": [
      "epoch 74 | val_loss: 0.2502883644331069\n",
      "epoch 74 | val_dsc: 0.9104569852686021\n"
     ]
    },
    {
     "name": "stderr",
     "output_type": "stream",
     "text": [
      "100%|██████████| 208/208 [04:55<00:00,  1.42s/it]\n",
      "100%|██████████| 21/21 [00:02<00:00,  7.55it/s]\n"
     ]
    },
    {
     "name": "stdout",
     "output_type": "stream",
     "text": [
      "epoch 75 | val_loss: 0.2520684599876404\n",
      "epoch 75 | val_dsc: 0.9087434931333469\n"
     ]
    },
    {
     "name": "stderr",
     "output_type": "stream",
     "text": [
      "100%|██████████| 208/208 [04:42<00:00,  1.36s/it]\n",
      "100%|██████████| 21/21 [00:02<00:00,  7.58it/s]\n"
     ]
    },
    {
     "name": "stdout",
     "output_type": "stream",
     "text": [
      "epoch 76 | val_loss: 0.2694630509331113\n",
      "epoch 76 | val_dsc: 0.9100939515785879\n"
     ]
    },
    {
     "name": "stderr",
     "output_type": "stream",
     "text": [
      "100%|██████████| 208/208 [04:45<00:00,  1.37s/it]\n",
      "100%|██████████| 21/21 [00:02<00:00,  7.93it/s]\n"
     ]
    },
    {
     "name": "stdout",
     "output_type": "stream",
     "text": [
      "epoch 77 | val_loss: 0.2718058398791722\n",
      "epoch 77 | val_dsc: 0.9125852032104765\n"
     ]
    },
    {
     "name": "stderr",
     "output_type": "stream",
     "text": [
      "100%|██████████| 208/208 [04:41<00:00,  1.36s/it]\n",
      "100%|██████████| 21/21 [00:02<00:00,  7.64it/s]\n"
     ]
    },
    {
     "name": "stdout",
     "output_type": "stream",
     "text": [
      "epoch 78 | val_loss: 0.2570651514189584\n",
      "epoch 78 | val_dsc: 0.9082024490100571\n"
     ]
    },
    {
     "name": "stderr",
     "output_type": "stream",
     "text": [
      "100%|██████████| 208/208 [04:49<00:00,  1.39s/it]\n",
      "100%|██████████| 21/21 [00:02<00:00,  7.79it/s]\n"
     ]
    },
    {
     "name": "stdout",
     "output_type": "stream",
     "text": [
      "epoch 79 | val_loss: 0.23872599715278262\n",
      "epoch 79 | val_dsc: 0.9122363396280015\n"
     ]
    },
    {
     "name": "stderr",
     "output_type": "stream",
     "text": [
      "100%|██████████| 208/208 [04:50<00:00,  1.40s/it]\n",
      "100%|██████████| 21/21 [00:02<00:00,  7.72it/s]\n"
     ]
    },
    {
     "name": "stdout",
     "output_type": "stream",
     "text": [
      "epoch 80 | val_loss: 0.2328010740734282\n",
      "epoch 80 | val_dsc: 0.9062628047057666\n"
     ]
    },
    {
     "name": "stderr",
     "output_type": "stream",
     "text": [
      "100%|██████████| 208/208 [3:45:21<00:00, 65.01s/it]     \n",
      "100%|██████████| 21/21 [00:08<00:00,  2.44it/s]\n"
     ]
    },
    {
     "name": "stdout",
     "output_type": "stream",
     "text": [
      "epoch 81 | val_loss: 0.25877370153154644\n",
      "epoch 81 | val_dsc: 0.9051299943049695\n"
     ]
    },
    {
     "name": "stderr",
     "output_type": "stream",
     "text": [
      "100%|██████████| 208/208 [03:41<00:00,  1.07s/it]\n",
      "100%|██████████| 21/21 [00:01<00:00, 11.30it/s]\n"
     ]
    },
    {
     "name": "stdout",
     "output_type": "stream",
     "text": [
      "epoch 82 | val_loss: 0.28305434045337496\n",
      "epoch 82 | val_dsc: 0.9079891442111585\n"
     ]
    },
    {
     "name": "stderr",
     "output_type": "stream",
     "text": [
      "100%|██████████| 208/208 [01:20<00:00,  2.59it/s]\n",
      "100%|██████████| 21/21 [00:01<00:00, 12.02it/s]\n"
     ]
    },
    {
     "name": "stdout",
     "output_type": "stream",
     "text": [
      "epoch 83 | val_loss: 0.26408294552848455\n",
      "epoch 83 | val_dsc: 0.9101132720164198\n"
     ]
    },
    {
     "name": "stderr",
     "output_type": "stream",
     "text": [
      "100%|██████████| 208/208 [01:20<00:00,  2.58it/s]\n",
      "100%|██████████| 21/21 [00:01<00:00, 11.74it/s]\n"
     ]
    },
    {
     "name": "stdout",
     "output_type": "stream",
     "text": [
      "epoch 84 | val_loss: 0.257610023021698\n",
      "epoch 84 | val_dsc: 0.904295319184118\n"
     ]
    },
    {
     "name": "stderr",
     "output_type": "stream",
     "text": [
      "100%|██████████| 208/208 [01:20<00:00,  2.58it/s]\n",
      "100%|██████████| 21/21 [00:01<00:00, 11.57it/s]\n"
     ]
    },
    {
     "name": "stdout",
     "output_type": "stream",
     "text": [
      "epoch 85 | val_loss: 0.25411967152640935\n",
      "epoch 85 | val_dsc: 0.8106097164609085\n"
     ]
    },
    {
     "name": "stderr",
     "output_type": "stream",
     "text": [
      "100%|██████████| 208/208 [01:20<00:00,  2.58it/s]\n",
      "100%|██████████| 21/21 [00:01<00:00, 11.87it/s]\n"
     ]
    },
    {
     "name": "stdout",
     "output_type": "stream",
     "text": [
      "epoch 86 | val_loss: 0.2505666755494617\n",
      "epoch 86 | val_dsc: 0.9137503510775835\n"
     ]
    },
    {
     "name": "stderr",
     "output_type": "stream",
     "text": [
      "100%|██████████| 208/208 [01:20<00:00,  2.58it/s]\n",
      "100%|██████████| 21/21 [00:01<00:00, 11.65it/s]\n"
     ]
    },
    {
     "name": "stdout",
     "output_type": "stream",
     "text": [
      "epoch 87 | val_loss: 0.24859038704917544\n",
      "epoch 87 | val_dsc: 0.9099273088231172\n"
     ]
    },
    {
     "name": "stderr",
     "output_type": "stream",
     "text": [
      "100%|██████████| 208/208 [01:19<00:00,  2.60it/s]\n",
      "100%|██████████| 21/21 [00:01<00:00, 11.87it/s]\n"
     ]
    },
    {
     "name": "stdout",
     "output_type": "stream",
     "text": [
      "epoch 88 | val_loss: 0.24203159695579893\n",
      "epoch 88 | val_dsc: 0.9127899287291182\n"
     ]
    },
    {
     "name": "stderr",
     "output_type": "stream",
     "text": [
      "100%|██████████| 208/208 [01:20<00:00,  2.59it/s]\n",
      "100%|██████████| 21/21 [00:01<00:00, 11.87it/s]\n"
     ]
    },
    {
     "name": "stdout",
     "output_type": "stream",
     "text": [
      "epoch 89 | val_loss: 0.21797526734215872\n",
      "epoch 89 | val_dsc: 0.9098923667871489\n"
     ]
    },
    {
     "name": "stderr",
     "output_type": "stream",
     "text": [
      "100%|██████████| 208/208 [01:20<00:00,  2.60it/s]\n",
      "100%|██████████| 21/21 [00:01<00:00, 12.07it/s]\n"
     ]
    },
    {
     "name": "stdout",
     "output_type": "stream",
     "text": [
      "epoch 90 | val_loss: 0.26461924825395855\n",
      "epoch 90 | val_dsc: 0.8954167634013943\n"
     ]
    },
    {
     "name": "stderr",
     "output_type": "stream",
     "text": [
      "100%|██████████| 208/208 [01:19<00:00,  2.60it/s]\n",
      "100%|██████████| 21/21 [00:07<00:00,  2.77it/s]\n"
     ]
    },
    {
     "name": "stdout",
     "output_type": "stream",
     "text": [
      "epoch 91 | val_loss: 0.21313724915186563\n",
      "epoch 91 | val_dsc: 0.9108367849451089\n"
     ]
    },
    {
     "name": "stderr",
     "output_type": "stream",
     "text": [
      "100%|██████████| 208/208 [01:19<00:00,  2.60it/s]\n",
      "100%|██████████| 21/21 [00:01<00:00, 11.99it/s]\n"
     ]
    },
    {
     "name": "stdout",
     "output_type": "stream",
     "text": [
      "epoch 92 | val_loss: 0.23244312831333705\n",
      "epoch 92 | val_dsc: 0.9086053186363434\n"
     ]
    },
    {
     "name": "stderr",
     "output_type": "stream",
     "text": [
      "100%|██████████| 208/208 [01:20<00:00,  2.60it/s]\n",
      "100%|██████████| 21/21 [00:01<00:00, 11.85it/s]\n"
     ]
    },
    {
     "name": "stdout",
     "output_type": "stream",
     "text": [
      "epoch 93 | val_loss: 0.23193380946204775\n",
      "epoch 93 | val_dsc: 0.9095681502971255\n"
     ]
    },
    {
     "name": "stderr",
     "output_type": "stream",
     "text": [
      "100%|██████████| 208/208 [01:48<00:00,  1.91it/s]\n",
      "100%|██████████| 21/21 [00:01<00:00, 11.84it/s]\n"
     ]
    },
    {
     "name": "stdout",
     "output_type": "stream",
     "text": [
      "epoch 94 | val_loss: 0.1970453801609221\n",
      "epoch 94 | val_dsc: 0.910138943738781\n"
     ]
    },
    {
     "name": "stderr",
     "output_type": "stream",
     "text": [
      "100%|██████████| 208/208 [01:20<00:00,  2.59it/s]\n",
      "100%|██████████| 21/21 [00:01<00:00, 12.09it/s]\n"
     ]
    },
    {
     "name": "stdout",
     "output_type": "stream",
     "text": [
      "epoch 95 | val_loss: 0.21346050784701392\n",
      "epoch 95 | val_dsc: 0.9091682338951715\n"
     ]
    },
    {
     "name": "stderr",
     "output_type": "stream",
     "text": [
      "100%|██████████| 208/208 [01:19<00:00,  2.61it/s]\n",
      "100%|██████████| 21/21 [00:01<00:00, 11.94it/s]\n"
     ]
    },
    {
     "name": "stdout",
     "output_type": "stream",
     "text": [
      "epoch 96 | val_loss: 0.2120747764905294\n",
      "epoch 96 | val_dsc: 0.9103678596253231\n"
     ]
    },
    {
     "name": "stderr",
     "output_type": "stream",
     "text": [
      "100%|██████████| 208/208 [01:19<00:00,  2.61it/s]\n",
      "100%|██████████| 21/21 [00:01<00:00, 12.00it/s]\n"
     ]
    },
    {
     "name": "stdout",
     "output_type": "stream",
     "text": [
      "epoch 97 | val_loss: 0.24739488533564977\n",
      "epoch 97 | val_dsc: 0.9089469543910489\n"
     ]
    },
    {
     "name": "stderr",
     "output_type": "stream",
     "text": [
      "100%|██████████| 208/208 [01:20<00:00,  2.59it/s]\n",
      "100%|██████████| 21/21 [00:01<00:00, 11.48it/s]\n"
     ]
    },
    {
     "name": "stdout",
     "output_type": "stream",
     "text": [
      "epoch 98 | val_loss: 0.2363170725958688\n",
      "epoch 98 | val_dsc: 0.9121341356836151\n"
     ]
    },
    {
     "name": "stderr",
     "output_type": "stream",
     "text": [
      "100%|██████████| 208/208 [01:19<00:00,  2.62it/s]\n",
      "100%|██████████| 21/21 [00:01<00:00, 12.07it/s]\n"
     ]
    },
    {
     "name": "stdout",
     "output_type": "stream",
     "text": [
      "epoch 99 | val_loss: 0.20549695832388742\n",
      "epoch 99 | val_dsc: 0.9090165311839107\n"
     ]
    },
    {
     "name": "stderr",
     "output_type": "stream",
     "text": [
      "100%|██████████| 208/208 [01:19<00:00,  2.62it/s]\n",
      "100%|██████████| 21/21 [00:07<00:00,  2.78it/s]\n"
     ]
    },
    {
     "name": "stdout",
     "output_type": "stream",
     "text": [
      "epoch 100 | val_loss: 0.21832050595964705\n",
      "epoch 100 | val_dsc: 0.9073074088508986\n",
      "Best validation mean DSC: 0.914025\n"
     ]
    }
   ],
   "source": [
    "for epoch in range(args.epochs):\n",
    "    for phase in [\"train\", \"valid\"]:\n",
    "        if phase == \"train\":\n",
    "            unet.train()\n",
    "        else:\n",
    "            unet.eval()\n",
    "\n",
    "        validation_pred = []\n",
    "        validation_true = []\n",
    "\n",
    "        for i, data in enumerate(tqdm.tqdm(loaders[phase])):\n",
    "            if phase == \"train\":\n",
    "                step += 1\n",
    "\n",
    "            x, y_true = data\n",
    "            x, y_true = x.to(device), y_true.to(device)\n",
    "\n",
    "            optimizer.zero_grad()\n",
    "\n",
    "            with torch.set_grad_enabled(phase == \"train\"):\n",
    "                y_pred = unet(x)\n",
    "\n",
    "                loss = dsc_loss(y_pred, y_true)\n",
    "\n",
    "                if phase == \"valid\":\n",
    "                    loss_valid.append(loss.item())\n",
    "                    y_pred_np = y_pred.detach().cpu().numpy()\n",
    "                    validation_pred.extend(\n",
    "                        [y_pred_np[s] for s in range(y_pred_np.shape[0])]\n",
    "                    )\n",
    "                    y_true_np = y_true.detach().cpu().numpy()\n",
    "                    validation_true.extend(\n",
    "                        [y_true_np[s] for s in range(y_true_np.shape[0])]\n",
    "                    )\n",
    "                    if (epoch % args.vis_freq == 0) or (epoch == args.epochs - 1):\n",
    "                        if i * args.batch_size < args.vis_images:\n",
    "                            tag = \"image/{}\".format(i)\n",
    "                            num_images = args.vis_images - i * args.batch_size\n",
    "                            logger.image_list_summary(\n",
    "                                tag,\n",
    "                                log_images(x, y_true, y_pred)[:num_images],\n",
    "                                step,\n",
    "                            )\n",
    "\n",
    "                if phase == \"train\":\n",
    "                    loss_train.append(loss.item())\n",
    "                    loss.backward()\n",
    "                    optimizer.step()\n",
    "\n",
    "            if phase == \"train\" and (step + 1) % 10 == 0:\n",
    "                log_loss_summary(logger, loss_train, step)\n",
    "                loss_train = []\n",
    "\n",
    "        if phase == \"valid\":\n",
    "            log_loss_summary(logger, loss_valid, step, prefix=\"val_\")\n",
    "            print(\"epoch {} | val_loss: {}\".format(epoch + 1, np.mean(loss_valid)))\n",
    "            mean_dsc = np.mean(\n",
    "                dsc_per_volume(\n",
    "                    validation_pred,\n",
    "                    validation_true,\n",
    "                    loader_valid.dataset.patient_slice_index,\n",
    "                )\n",
    "            )\n",
    "            logger.scalar_summary(\"val_dsc\", mean_dsc, step)\n",
    "            print(\"epoch {} | val_dsc: {}\".format(epoch+1, mean_dsc))\n",
    "            if mean_dsc > best_validation_dsc:\n",
    "                best_validation_dsc = mean_dsc\n",
    "                torch.save(unet.state_dict(), os.path.join(args.weights, \"unet.pt\"))\n",
    "            loss_valid = []\n",
    "\n",
    "print(\"Best validation mean DSC: {:4f}\".format(best_validation_dsc))"
   ]
  },
  {
   "cell_type": "code",
   "execution_count": null,
   "metadata": {},
   "outputs": [],
   "source": []
  }
 ],
 "metadata": {
  "kernelspec": {
   "display_name": "Python 3",
   "language": "python",
   "name": "python3"
  },
  "language_info": {
   "codemirror_mode": {
    "name": "ipython",
    "version": 3
   },
   "file_extension": ".py",
   "mimetype": "text/x-python",
   "name": "python",
   "nbconvert_exporter": "python",
   "pygments_lexer": "ipython3",
   "version": "3.10.13"
  }
 },
 "nbformat": 4,
 "nbformat_minor": 2
}
