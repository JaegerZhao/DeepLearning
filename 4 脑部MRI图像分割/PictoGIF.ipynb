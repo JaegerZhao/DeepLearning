{
 "cells": [
  {
   "cell_type": "code",
   "execution_count": 8,
   "metadata": {},
   "outputs": [],
   "source": [
    "from PIL import Image\n",
    "import os\n",
    "\n",
    "def create_gif(image_folder, output_gif_path, prefix):\n",
    "    images = []\n",
    "\n",
    "    # 获取文件夹中所有以 prefix 开头的图片文件\n",
    "    image_files = [file for file in os.listdir(image_folder) if file.startswith(prefix)]\n",
    "    image_files.sort()  # 按名称排序\n",
    "\n",
    "    for image_file in image_files:\n",
    "        image_path = os.path.join(image_folder, image_file)\n",
    "        img = Image.open(image_path)\n",
    "        images.append(img)\n",
    "\n",
    "    # 保存为 GIF 图片\n",
    "    images[0].save(output_gif_path+image_prefix+\".gif\", save_all=True, append_images=images[1:], duration=100, loop=0)\n",
    "\n",
    "\n",
    "folder_path = \"./brain-seg/predictions/kaggle_3m\"  # 替换为你的图片文件夹路径\n",
    "output_gif_path = \"./Gif/\"  # 输出的 GIF 文件路径\n",
    "image_prefix = \"TCGA_DU_6404_19850629\"  # 图片文件的前缀\n",
    "\n",
    "create_gif(folder_path, output_gif_path, image_prefix)\n"
   ]
  }
 ],
 "metadata": {
  "kernelspec": {
   "display_name": "unet",
   "language": "python",
   "name": "python3"
  },
  "language_info": {
   "codemirror_mode": {
    "name": "ipython",
    "version": 3
   },
   "file_extension": ".py",
   "mimetype": "text/x-python",
   "name": "python",
   "nbconvert_exporter": "python",
   "pygments_lexer": "ipython3",
   "version": "3.10.13"
  }
 },
 "nbformat": 4,
 "nbformat_minor": 2
}
