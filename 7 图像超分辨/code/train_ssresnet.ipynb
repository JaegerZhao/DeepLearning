{
 "cells": [
  {
   "cell_type": "code",
   "execution_count": null,
   "metadata": {},
   "outputs": [],
   "source": [
    "!pip config set global.index-url https://pypi.tuna.tsinghua.edu.cn/simple\n",
    "!pip install easydict"
   ]
  },
  {
   "cell_type": "code",
   "execution_count": null,
   "metadata": {},
   "outputs": [],
   "source": [
    "import time\n",
    "import torch.backends.cudnn as cudnn\n",
    "from torch import nn\n",
    "from easydict import EasyDict as edict\n",
    "from models import SRResNet\n",
    "from datasets import SRDataset\n",
    "from utils import *"
   ]
  },
  {
   "cell_type": "code",
   "execution_count": null,
   "metadata": {},
   "outputs": [],
   "source": [
    "# config\n",
    "config = edict()\n",
    "config.csv_folder = '/home/mw/project/SRDataset'\n",
    "config.HR_data_folder = '/home/mw/input/dataset76853/DIV2K_train_HR/DIV2K_train_HR'\n",
    "config.LR_data_folder = '/home/mw/input/dataset76853/DIV2K_train_LR_bicubic_X4/DIV2K_train_LR_bicubic/X4'\n",
    "config.crop_size = 96\n",
    "config.scaling_factor = 4\n",
    "\n",
    "# Model parameters\n",
    "large_kernel_size = 9  # kernel size of the first and last convolutions which transform the inputs and outputs\n",
    "small_kernel_size = 3  # kernel size of all convolutions in-between, i.e. those in the residual and subpixel convolutional blocks\n",
    "n_channels = 64  # number of channels in-between, i.e. the input and output channels for the residual and subpixel convolutional blocks\n",
    "n_blocks = 16  # number of residual blocks\n",
    "\n",
    "# Learning parameters\n",
    "config.checkpoint = None  # path to model checkpoint, None if none\n",
    "config.batch_size = 16  # batch size\n",
    "config.start_epoch = 0  # start at this epoch\n",
    "config.epochs = 20\n",
    "config.workers = 4\n",
    "config.beta = 1e-3  # the coefficient to weight the adversarial loss in the perceptual loss\n",
    "config.print_freq = 50\n",
    "config.lr = 1e-4\n",
    "config.grad_clip = None    # clip if gradients are exploding\n",
    "\n",
    "# Default device\n",
    "config.device = torch.device(\"cuda\" if torch.cuda.is_available() else \"cpu\")\n",
    "cudnn.benchmark = True"
   ]
  },
  {
   "cell_type": "code",
   "execution_count": null,
   "metadata": {},
   "outputs": [],
   "source": [
    "if config.checkpoint is None:\n",
    "    model = SRResNet(large_kernel_size=large_kernel_size, small_kernel_size=small_kernel_size,\n",
    "                        n_channels=n_channels, n_blocks=n_blocks, scaling_factor=config.scaling_factor)\n",
    "    # Initialize the optimizer\n",
    "    optimizer = torch.optim.Adam(params=filter(lambda p: p.requires_grad, model.parameters()),\n",
    "                                    lr=config.lr)\n",
    "\n",
    "else:\n",
    "    checkpoint = torch.load(config.checkpoint)\n",
    "    start_epoch = checkpoint['epoch'] + 1\n",
    "    model = checkpoint['model']\n",
    "    optimizer = checkpoint['optimizer']"
   ]
  },
  {
   "cell_type": "code",
   "execution_count": null,
   "metadata": {},
   "outputs": [],
   "source": [
    "# Move to default device\n",
    "model = model.to(config.device)\n",
    "criterion = nn.MSELoss().to(config.device)"
   ]
  },
  {
   "cell_type": "code",
   "execution_count": null,
   "metadata": {},
   "outputs": [],
   "source": [
    "# Custom dataloaders\n",
    "train_dataset = SRDataset(split='train', config=config)\n",
    "train_loader = torch.utils.data.DataLoader(train_dataset, batch_size=config.batch_size, shuffle=True, num_workers=config.workers,\n",
    "                                            pin_memory=True)  # note that we're passing the collate function here"
   ]
  },
  {
   "cell_type": "code",
   "execution_count": null,
   "metadata": {},
   "outputs": [],
   "source": [
    "def train(train_loader, model, criterion, optimizer, epoch):\n",
    "    \"\"\"\n",
    "    One epoch's training.\n",
    "\n",
    "    :param train_loader: DataLoader for training data\n",
    "    :param model: model\n",
    "    :param criterion: content loss function (Mean Squared-Error loss)\n",
    "    :param optimizer: optimizer\n",
    "    :param epoch: epoch number\n",
    "    \"\"\"\n",
    "    model.train()  # training mode enables batch normalization\n",
    "\n",
    "    batch_time = AverageMeter()  # forward prop. + back prop. time\n",
    "    data_time = AverageMeter()  # data loading time\n",
    "    losses = AverageMeter()  # loss\n",
    "\n",
    "    start = time.time()\n",
    "\n",
    "    # Batches\n",
    "    for i, (lr_imgs, hr_imgs) in enumerate(train_loader):\n",
    "        data_time.update(time.time() - start)\n",
    "\n",
    "        # Move to default device\n",
    "        lr_imgs = lr_imgs.to(config.device)  # (batch_size (N), 3, 24, 24), imagenet-normed\n",
    "        hr_imgs = hr_imgs.to(config.device)  # (batch_size (N), 3, 96, 96), in [-1, 1]\n",
    "\n",
    "        # Forward prop.\n",
    "        sr_imgs = model(lr_imgs)  # (N, 3, 96, 96), in [-1, 1]\n",
    "\n",
    "        # Loss\n",
    "        loss = criterion(sr_imgs, hr_imgs)  # scalar\n",
    "\n",
    "        # Backward prop.\n",
    "        optimizer.zero_grad()\n",
    "        loss.backward()\n",
    "\n",
    "        # Update model\n",
    "        optimizer.step()\n",
    "\n",
    "        # Keep track of loss\n",
    "        losses.update(loss.item(), lr_imgs.size(0))\n",
    "\n",
    "        # Keep track of batch time\n",
    "        batch_time.update(time.time() - start)\n",
    "\n",
    "        # Reset start time\n",
    "        start = time.time()\n",
    "\n",
    "        # Print status\n",
    "        if i % config.print_freq == 0:\n",
    "            print('Epoch: [{0}][{1}/{2}]----'\n",
    "                  'Batch Time {batch_time.val:.3f} ({batch_time.avg:.3f})----'\n",
    "                  'Data Time {data_time.val:.3f} ({data_time.avg:.3f})----'\n",
    "                  'Loss {loss.val:.4f} ({loss.avg:.4f})'.format(epoch, i, len(train_loader),\n",
    "                                                                    batch_time=batch_time,\n",
    "                                                                    data_time=data_time, loss=losses))\n",
    "    del lr_imgs, hr_imgs, sr_imgs  # free some memory since their histories may be stored\n"
   ]
  },
  {
   "cell_type": "code",
   "execution_count": null,
   "metadata": {},
   "outputs": [],
   "source": [
    "# Epochs\n",
    "for epoch in range(config.start_epoch, config.epochs):\n",
    "    # One epoch's training\n",
    "    train(train_loader=train_loader,\n",
    "              model=model,\n",
    "              criterion=criterion,\n",
    "              optimizer=optimizer,\n",
    "              epoch=epoch)\n",
    "    # Save checkpoint\n",
    "    torch.save({'epoch': epoch,\n",
    "                'model': model,\n",
    "                'optimizer': optimizer},\n",
    "                'checkpoint_srresnet.pth.tar')"
   ]
  }
 ],
 "metadata": {
  "language_info": {
   "name": "python"
  }
 },
 "nbformat": 4,
 "nbformat_minor": 2
}
