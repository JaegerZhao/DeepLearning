{
 "cells": [
  {
   "cell_type": "code",
   "execution_count": null,
   "metadata": {},
   "outputs": [],
   "source": [
    "import time\n",
    "import torch.backends.cudnn as cudnn\n",
    "from torch import nn\n",
    "from easydict import EasyDict as edict\n",
    "from models import Generator, Discriminator, TruncatedVGG19\n",
    "from datasets import SRDataset\n",
    "from utils import *\n",
    "from solver import train"
   ]
  },
  {
   "cell_type": "code",
   "execution_count": null,
   "metadata": {},
   "outputs": [],
   "source": [
    "# config\n",
    "config = edict()\n",
    "config.csv_folder = '/data/SRDataset'\n",
    "config.HR_data_folder = '/data/SRDataset/div2k/DIV2K_train_HR'\n",
    "config.LR_data_folder = '/data/SRDataset/div2k/DIV2K_train_LR_bicubic/X4'\n",
    "config.crop_size = 96\n",
    "config.scaling_factor = 4\n",
    "\n",
    "# Generator parameters\n",
    "config.G = edict()\n",
    "config.G.large_kernel_size = 9\n",
    "config.G.small_kernel_size = 3\n",
    "config.G.n_channels = 64\n",
    "config.G.n_blocks = 16\n",
    "\n",
    "# Discriminator parameters\n",
    "config.D = edict()\n",
    "config.D.kernel_size = 3\n",
    "config.D.n_channels = 64\n",
    "config.D.n_blocks = 8\n",
    "config.D.fc_size = 1024\n",
    "\n",
    "# Learning parameters\n",
    "config.checkpoint = None # path to model (SRGAN) checkpoint, None if none\n",
    "config.batch_size = 16\n",
    "config.start_epoch = 0\n",
    "config.epochs = 200\n",
    "config.workers = 4\n",
    "config.vgg19_i = 5  # the index i in the definition for VGG loss; see paper\n",
    "config.vgg19_j = 4  # the index j in the definition for VGG loss; see paper\n",
    "config.beta = 1e-3  # the coefficient to weight the adversarial loss in the perceptual loss\n",
    "config.print_freq = 50\n",
    "config.lr = 1e-3\n",
    "\n",
    "# Default device\n",
    "config.device = torch.device(\"cuda\" if torch.cuda.is_available() else \"cpu\")\n",
    "cudnn.benchmark = True"
   ]
  },
  {
   "cell_type": "code",
   "execution_count": null,
   "metadata": {},
   "outputs": [],
   "source": [
    "if config.checkpoint is None:\n",
    "    # Generator\n",
    "    generator = Generator(config)\n",
    "\n",
    "    # Initialize generator's optimizer\n",
    "    optimizer_g = torch.optim.Adam(params=filter(lambda p: p.requires_grad, generator.parameters()),\n",
    "                                   lr=config.lr)\n",
    "\n",
    "    # Discriminator\n",
    "    discriminator = Discriminator(config)\n",
    "    optimizer_d = torch.optim.Adam(params=filter(lambda p: p.requires_grad, discriminator.parameters()),\n",
    "                                   lr=config.lr)\n",
    "\n",
    "else:\n",
    "    checkpoint = torch.load(config.checkpoint)\n",
    "    config.start_epoch = checkpoint['epoch'] + 1\n",
    "    generator = checkpoint['generator']\n",
    "    discriminator = checkpoint['discriminator']\n",
    "    optimizer_g = checkpoint['optimizer_g']\n",
    "    optimizer_d = checkpoint['optimizer_d']\n",
    "    print(\"\\nLoaded checkpoint from epoch %d.\\n\" % (checkpoint['epoch'] + 1))"
   ]
  },
  {
   "cell_type": "code",
   "execution_count": null,
   "metadata": {},
   "outputs": [],
   "source": [
    "# Truncated VGG19 network to be used in the loss calculation\n",
    "truncated_vgg19 = TruncatedVGG19(i=config.vgg19_i, j=config.vgg19_j)\n",
    "truncated_vgg19.eval()"
   ]
  },
  {
   "cell_type": "code",
   "execution_count": null,
   "metadata": {},
   "outputs": [],
   "source": [
    "# Loss functions\n",
    "content_loss_criterion = nn.MSELoss()\n",
    "adversarial_loss_criterion = nn.BCEWithLogitsLoss()"
   ]
  },
  {
   "cell_type": "code",
   "execution_count": null,
   "metadata": {},
   "outputs": [],
   "source": [
    "# Move to default device\n",
    "generator = generator.to(config.device)\n",
    "discriminator = discriminator.to(config.device)\n",
    "truncated_vgg19 = truncated_vgg19.to(config.device)\n",
    "content_loss_criterion = content_loss_criterion.to(config.device)\n",
    "adversarial_loss_criterion = adversarial_loss_criterion.to(config.device)"
   ]
  },
  {
   "cell_type": "code",
   "execution_count": null,
   "metadata": {},
   "outputs": [],
   "source": [
    "# Custom dataloaders\n",
    "train_dataset = SRDataset(split='train', config=config)\n",
    "train_loader = torch.utils.data.DataLoader(train_dataset,\n",
    "                                           batch_size=config.batch_size,\n",
    "                                           shuffle=True, \n",
    "                                           num_workers=config.workers,\n",
    "                                           pin_memory=True)"
   ]
  },
  {
   "cell_type": "code",
   "execution_count": null,
   "metadata": {},
   "outputs": [],
   "source": [
    "# Epochs\n",
    "for epoch in range(config.start_epoch, config.epochs):\n",
    "    # At the halfway point, reduce learning rate to a tenth\n",
    "    if epoch == int(config.epochs / 2 + 1):\n",
    "        adjust_learning_rate(optimizer_g, 0.1)\n",
    "        adjust_learning_rate(optimizer_d, 0.1)\n",
    "    # One epoch's training\n",
    "    train(train_loader=train_loader,\n",
    "          generator=generator,\n",
    "          discriminator=discriminator,\n",
    "          truncated_vgg19=truncated_vgg19,\n",
    "          content_loss_criterion=content_loss_criterion,\n",
    "          adversarial_loss_criterion=adversarial_loss_criterion,\n",
    "          optimizer_g=optimizer_g,\n",
    "          optimizer_d=optimizer_d,\n",
    "          epoch=epoch,\n",
    "          device=config.device,\n",
    "          beta=config.beta,\n",
    "          print_freq=config.print_freq)\n",
    "    # Save checkpoint\n",
    "    torch.save({'epoch': epoch,\n",
    "                'generator': generator,\n",
    "                'discriminator': discriminator,\n",
    "                'optimizer_g': optimizer_g,\n",
    "                'optimizer_d': optimizer_d},\n",
    "                'checkpoint_srgan.pth.tar')"
   ]
  },
  {
   "cell_type": "code",
   "execution_count": null,
   "metadata": {},
   "outputs": [],
   "source": []
  }
 ],
 "metadata": {
  "kernelspec": {
   "display_name": "Python 3",
   "language": "python",
   "name": "python3"
  },
  "language_info": {
   "codemirror_mode": {
    "name": "ipython",
    "version": 3
   },
   "file_extension": ".py",
   "mimetype": "text/x-python",
   "name": "python",
   "nbconvert_exporter": "python",
   "pygments_lexer": "ipython3",
   "version": "3.6.4"
  }
 },
 "nbformat": 4,
 "nbformat_minor": 4
}
