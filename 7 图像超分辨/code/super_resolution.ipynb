{
 "cells": [
  {
   "cell_type": "code",
   "execution_count": null,
   "metadata": {},
   "outputs": [],
   "source": [
    "import torch\n",
    "from utils import *\n",
    "from PIL import Image, ImageDraw, ImageFont\n",
    "import matplotlib.pyplot as plt"
   ]
  },
  {
   "cell_type": "code",
   "execution_count": null,
   "metadata": {},
   "outputs": [],
   "source": [
    "# Data parameters\n",
    "srgan_checkpoint = \"./checkpoint_srgan.pth.tar\"\n",
    "HR_image_path = '/data/SRDataset/benchmark/Set14/HR/baboon.png'\n",
    "LR_image_path = '/data/SRDataset/benchmark/Set14/LR_bicubic/X4/baboonx4.png'\n",
    "device = torch.device(\"cuda:0\" if torch.cuda.is_available() else \"cpu\")\n",
    "#device = torch.device(\"cpu\")"
   ]
  },
  {
   "cell_type": "code",
   "execution_count": null,
   "metadata": {},
   "outputs": [],
   "source": [
    "# Load models\n",
    "srgan_generator = torch.load(srgan_checkpoint)['generator'].to(device)\n",
    "srgan_generator.eval()"
   ]
  },
  {
   "cell_type": "code",
   "execution_count": null,
   "metadata": {},
   "outputs": [],
   "source": [
    "hr_img = Image.open(HR_image_path, mode=\"r\")\n",
    "hr_img = hr_img.convert('RGB')\n",
    "lr_img = Image.open(LR_image_path, mode=\"r\")\n",
    "lr_img = lr_img.convert('RGB')"
   ]
  },
  {
   "cell_type": "code",
   "execution_count": null,
   "metadata": {},
   "outputs": [],
   "source": [
    "# Bicubic Upsampling\n",
    "bicubic_img = lr_img.resize((hr_img.width, hr_img.height), Image.BICUBIC)\n",
    "# Super-resolution (SR) with SRGAN\n",
    "sr_img_srgan = srgan_generator(convert_image(lr_img, source='pil', target='imagenet-norm', device=device).unsqueeze(0).to(device))\n",
    "sr_img_srgan = sr_img_srgan.squeeze(0).detach()\n",
    "sr_img_srgan = convert_image(sr_img_srgan, source='[-1, 1]', target='pil', device=device)"
   ]
  },
  {
   "cell_type": "code",
   "execution_count": null,
   "metadata": {},
   "outputs": [],
   "source": [
    "# Visualization\n",
    "plt.figure('Bicubic')\n",
    "plt.imshow(bicubic_img)\n",
    "plt.axis('off')\n",
    "plt.title('Bicubic')\n",
    "plt.figure('SRGAN')\n",
    "plt.imshow(sr_img_srgan)\n",
    "plt.axis('off')\n",
    "plt.title('SRGAN')\n",
    "plt.figure('Original HR')\n",
    "plt.imshow(hr_img)\n",
    "plt.axis('off')\n",
    "plt.title('Original HR')\n",
    "plt.show()"
   ]
  },
  {
   "cell_type": "code",
   "execution_count": null,
   "metadata": {},
   "outputs": [],
   "source": []
  }
 ],
 "metadata": {
  "kernelspec": {
   "display_name": "Python 3",
   "language": "python",
   "name": "python3"
  },
  "language_info": {
   "codemirror_mode": {
    "name": "ipython",
    "version": 3
   },
   "file_extension": ".py",
   "mimetype": "text/x-python",
   "name": "python",
   "nbconvert_exporter": "python",
   "pygments_lexer": "ipython3",
   "version": "3.6.4"
  }
 },
 "nbformat": 4,
 "nbformat_minor": 4
}
